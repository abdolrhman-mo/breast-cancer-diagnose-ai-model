{
 "cells": [
  {
   "cell_type": "markdown",
   "id": "26179d16",
   "metadata": {},
   "source": [
    "**Phases 6-7: preprocessing, and training**"
   ]
  },
  {
   "cell_type": "markdown",
   "id": "fe903a12",
   "metadata": {},
   "source": [
    "## **Phase 6: Data Preprocessing**"
   ]
  },
  {
   "cell_type": "code",
   "execution_count": 26,
   "id": "3e981eb0",
   "metadata": {},
   "outputs": [],
   "source": [
    "import pandas as pd\n",
    "from sklearn.model_selection import train_test_split\n",
    "from sklearn.preprocessing import StandardScaler"
   ]
  },
  {
   "cell_type": "code",
   "execution_count": 16,
   "id": "eb114eb2",
   "metadata": {},
   "outputs": [],
   "source": [
    "df = pd.read_csv(\"../data/processed/cleaned_data.csv\")"
   ]
  },
  {
   "cell_type": "markdown",
   "id": "790251f1",
   "metadata": {},
   "source": [
    "### Remove useless columns"
   ]
  },
  {
   "cell_type": "code",
   "execution_count": 17,
   "id": "52fa1e3c",
   "metadata": {},
   "outputs": [],
   "source": [
    "# Drop id column (not useful for the model) then check the info\n",
    "df.drop(['id'], axis=1, inplace=True)"
   ]
  },
  {
   "cell_type": "markdown",
   "id": "a9eeca46",
   "metadata": {},
   "source": [
    "### Prepare data for training"
   ]
  },
  {
   "cell_type": "code",
   "execution_count": 20,
   "id": "f2d02e0c",
   "metadata": {},
   "outputs": [],
   "source": [
    "# Separate What You Want to Predict\n",
    "X = df.drop('diagnosis', axis=1)  # Everything EXCEPT 'diagnosis' column\n",
    "y = df['diagnosis']               # ONLY the 'diagnosis' column\n",
    "\n",
    "# Note:\n",
    "# Why X and y?\n",
    "# This comes from math notation: y = f(X) means \"y depends on X\"\n",
    "# X: Independent variables (patient info)\n",
    "# y: Dependent variable (diagnosis)\n",
    "\n",
    "# Split the data into training and testing sets\n",
    "X_train, X_test, y_train, y_test = train_test_split(X, y, test_size=0.2, random_state=42, stratify=y)"
   ]
  },
  {
   "cell_type": "markdown",
   "id": "544a2b32",
   "metadata": {},
   "source": [
    "## Handle class imbalance"
   ]
  },
  {
   "cell_type": "code",
   "execution_count": null,
   "id": "d51e3e7e",
   "metadata": {},
   "outputs": [
    {
     "name": "stdout",
     "output_type": "stream",
     "text": [
      "\n",
      "Percentages:\n",
      "diagnosis\n",
      "0    62.637363\n",
      "1    37.362637\n",
      "Name: proportion, dtype: float64\n"
     ]
    }
   ],
   "source": [
    "# Check if your data is imbalanced\n",
    "print(\"\\nPercentages:\")\n",
    "print(y_train.value_counts(normalize=True) * 100)\n",
    "\n",
    "# Conclusion:\n",
    "# This is not too imbalanced (close to 60/40), so SMOTE or oversampling might not be essential, but you can still try it and see if recall improves."
   ]
  },
  {
   "cell_type": "markdown",
   "id": "7fa1ad63",
   "metadata": {},
   "source": [
    "## Scale numerical features"
   ]
  },
  {
   "cell_type": "code",
   "execution_count": 27,
   "id": "365162fa",
   "metadata": {},
   "outputs": [],
   "source": [
    "# Notes:\n",
    "# SMOTE = \"Synthetic Minority Oversampling TEchnique\"\n",
    "# What it means: \"I'm a tool that creates fake examples of rare cases\"\n",
    "\n",
    "# Scaling\n",
    "scaler = StandardScaler()\n",
    "X_train_scaled = scaler.fit_transform(X_train)\n",
    "X_test_scaled = scaler.transform(X_test)"
   ]
  }
 ],
 "metadata": {
  "kernelspec": {
   "display_name": "venv",
   "language": "python",
   "name": "python3"
  },
  "language_info": {
   "codemirror_mode": {
    "name": "ipython",
    "version": 3
   },
   "file_extension": ".py",
   "mimetype": "text/x-python",
   "name": "python",
   "nbconvert_exporter": "python",
   "pygments_lexer": "ipython3",
   "version": "3.13.5"
  }
 },
 "nbformat": 4,
 "nbformat_minor": 5
}
